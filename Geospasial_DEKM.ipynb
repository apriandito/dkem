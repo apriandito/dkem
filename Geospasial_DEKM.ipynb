{
  "nbformat": 4,
  "nbformat_minor": 0,
  "metadata": {
    "colab": {
      "provenance": [],
      "include_colab_link": true
    },
    "kernelspec": {
      "name": "python3",
      "display_name": "Python 3"
    },
    "language_info": {
      "name": "python"
    }
  },
  "cells": [
    {
      "cell_type": "markdown",
      "metadata": {
        "id": "view-in-github",
        "colab_type": "text"
      },
      "source": [
        "<a href=\"https://colab.research.google.com/github/apriandito/dkem/blob/main/Geospasial_DEKM.ipynb\" target=\"_parent\"><img src=\"https://colab.research.google.com/assets/colab-badge.svg\" alt=\"Open In Colab\"/></a>"
      ]
    },
    {
      "cell_type": "code",
      "source": [
        "import pandas as pd\n",
        "import folium\n",
        "import requests\n",
        "from branca.colormap import LinearColormap\n",
        "import json\n",
        "from io import StringIO"
      ],
      "metadata": {
        "id": "7RgunTYp6gBP"
      },
      "execution_count": null,
      "outputs": []
    },
    {
      "cell_type": "code",
      "source": [
        "# Load poverty data\n",
        "poverty_data = pd.read_csv(\"https://raw.githubusercontent.com/yogasgm/poverty_data/main/persentase_kemiskinan_cleaned.csv\")\n",
        "\n",
        "# Load GeoJSON Indonesia Province\n",
        "geojson_url = \"https://raw.githubusercontent.com/superpikar/indonesia-geojson/master/indonesia-province.json\"\n",
        "try:\n",
        "    response = requests.get(geojson_url)\n",
        "    response.raise_for_status()\n",
        "    geojson_data = response.json()\n",
        "except (requests.RequestException, json.JSONDecodeError) as e:\n",
        "    print(f\"Failed to fetch or parse GeoJSON data from URL: {e}\")\n",
        "    print(\"Using fallback GeoJSON data...\")"
      ],
      "metadata": {
        "id": "Rg2o14GF9-ai"
      },
      "execution_count": null,
      "outputs": []
    },
    {
      "cell_type": "code",
      "source": [
        "# Function to normalize province names\n",
        "def normalize_province_name(name):\n",
        "    replacements = {\n",
        "        'DI. ACEH': 'ACEH',\n",
        "        'DAERAH ISTIMEWA YOGYAKARTA': 'DI YOGYAKARTA',\n",
        "        'PROBANTEN': 'BANTEN',\n",
        "        'BANGKA BELITUNG': 'KEP, BANGKA BELITUNG',\n",
        "        'NUSATENGGARA BARAT': 'NUSA TENGGARA BARAT',\n",
        "        'IRIAN JAYA BARAT': 'PAPUA BARAT',\n",
        "        'IRIAN JAYA TIMUR': 'PAPUA',\n",
        "        'IRIAN JAYA TENGAH': 'PAPUA TENGAH',\n",
        "        'RIAU': 'KEP, RIAU'\n",
        "    }\n",
        "    name = name.upper().strip()\n",
        "    return replacements.get(name, name)"
      ],
      "metadata": {
        "id": "Up25sCxACTWe"
      },
      "execution_count": null,
      "outputs": []
    },
    {
      "cell_type": "code",
      "source": [
        "# Clean the poverty data\n",
        "poverty_data['persentase'] = poverty_data['persentase'].astype(float)\n",
        "\n",
        "# Normalize province names in poverty data\n",
        "poverty_data['provinsi'] = poverty_data['provinsi'].apply(normalize_province_name)\n",
        "poverty_dict = dict(zip(poverty_data['provinsi'], poverty_data['persentase']))"
      ],
      "metadata": {
        "id": "G2gvoQAx-LEg"
      },
      "execution_count": null,
      "outputs": []
    },
    {
      "cell_type": "code",
      "source": [
        "# Function to get province name from feature\n",
        "def get_province_name(feature):\n",
        "    return normalize_province_name(feature['properties']['Propinsi'])\n",
        "\n",
        "# Function to get poverty percentage from feature\n",
        "def get_poverty_percentage(feature):\n",
        "    province_name = get_province_name(feature)\n",
        "    return poverty_dict.get(province_name, \"Data tidak tersedia\")"
      ],
      "metadata": {
        "id": "uHLHCsOB3kvV"
      },
      "execution_count": null,
      "outputs": []
    },
    {
      "cell_type": "code",
      "source": [
        "# Add poverty percentage to each features\n",
        "for feature in geojson_data['features']:\n",
        "    feature['properties']['poverty_percentage'] = f\"{get_poverty_percentage(feature)}%\""
      ],
      "metadata": {
        "id": "KzKyOHC67CGb"
      },
      "execution_count": null,
      "outputs": []
    },
    {
      "cell_type": "code",
      "source": [
        "# Create a map centered on Indonesia\n",
        "m = folium.Map(location=[-2.5, 118], zoom_start=5)\n",
        "\n",
        "# Create a color map\n",
        "color_map = LinearColormap(colors=['white', 'yellow', 'orange', 'red'],\n",
        "                           vmin=poverty_data['persentase'].min(),\n",
        "                           vmax=poverty_data['persentase'].max())\n",
        "\n",
        "# Add the colored polygons to the map\n",
        "folium.GeoJson(\n",
        "    geojson_data,\n",
        "    style_function=lambda feature: {\n",
        "        'fillColor': color_map(poverty_dict.get(get_province_name(feature), 0)),\n",
        "        'color': 'black',\n",
        "        'weight': 1,\n",
        "        'fillOpacity': 0.7,\n",
        "    },\n",
        "    tooltip=folium.GeoJsonTooltip(\n",
        "        fields=['Propinsi', 'poverty_percentage'],\n",
        "        aliases=['Provinsi:', 'Persentase Kemiskinan:'],\n",
        "        localize=True,\n",
        "        sticky=False,\n",
        "        labels=True,\n",
        "        style=\"\"\"\n",
        "            background-color: #F0EFEF;\n",
        "            border: 2px solid black;\n",
        "            border-radius: 3px;\n",
        "            box-shadow: 3px;\n",
        "        \"\"\",\n",
        "        max_width=800,\n",
        "    ),\n",
        "    popup=folium.GeoJsonPopup(\n",
        "        fields=['Propinsi', 'poverty_percentage'],\n",
        "        aliases=['Provinsi:', 'Persentase Kemiskinan:'],\n",
        "        localize=True,\n",
        "        labels=True,\n",
        "    )\n",
        ").add_to(m)\n",
        "\n",
        "# Add a color legend\n",
        "color_map.add_to(m)\n",
        "\n",
        "# Save the map\n",
        "m.save('indonesia_poverty_map_simple.html')\n",
        "\n",
        "print(\"Map has been generated and saved as 'indonesia_poverty_map_simple.html'\")"
      ],
      "metadata": {
        "colab": {
          "base_uri": "https://localhost:8080/"
        },
        "id": "V2RXZyRb6z_F",
        "outputId": "27693f2f-621d-4ad6-ea37-fb9a65d73728"
      },
      "execution_count": null,
      "outputs": [
        {
          "output_type": "stream",
          "name": "stdout",
          "text": [
            "Map has been generated and saved as 'indonesia_poverty_map_simple.html'\n"
          ]
        }
      ]
    },
    {
      "cell_type": "code",
      "source": [
        "# Print provinces that were not matched\n",
        "geojson_provinces = set(get_province_name(feature) for feature in geojson_data['features'])\n",
        "csv_provinces = set(poverty_data['provinsi'])\n",
        "print(\"Provinces in GeoJSON but not in CSV:\", geojson_provinces - csv_provinces)\n",
        "print(\"Provinces in CSV but not in GeoJSON:\", csv_provinces - geojson_provinces)"
      ],
      "metadata": {
        "colab": {
          "base_uri": "https://localhost:8080/"
        },
        "id": "q8S2pSPp69dG",
        "outputId": "b89d635e-57a6-41f3-d91d-5a7217400a63"
      },
      "execution_count": null,
      "outputs": [
        {
          "output_type": "stream",
          "name": "stdout",
          "text": [
            "Provinces in GeoJSON but not in CSV: set()\n",
            "Provinces in CSV but not in GeoJSON: {'PAPUA SELATAN', 'KALIMANTAN UTARA', 'PAPUA PEGUNUNGAN', 'SULAWESI BARAT', 'PAPUA BARAT DAYA'}\n"
          ]
        }
      ]
    }
  ]
}