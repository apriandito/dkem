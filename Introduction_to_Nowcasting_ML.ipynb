{
  "nbformat": 4,
  "nbformat_minor": 0,
  "metadata": {
    "colab": {
      "provenance": [],
      "authorship_tag": "ABX9TyPcpm09GbjdIaiRoJC2mzqK",
      "include_colab_link": true
    },
    "kernelspec": {
      "name": "python3",
      "display_name": "Python 3"
    },
    "language_info": {
      "name": "python"
    }
  },
  "cells": [
    {
      "cell_type": "markdown",
      "metadata": {
        "id": "view-in-github",
        "colab_type": "text"
      },
      "source": [
        "<a href=\"https://colab.research.google.com/github/apriandito/dkem/blob/main/Introduction_to_Nowcasting_ML.ipynb\" target=\"_parent\"><img src=\"https://colab.research.google.com/assets/colab-badge.svg\" alt=\"Open In Colab\"/></a>"
      ]
    },
    {
      "cell_type": "code",
      "source": [
        "import pandas as pd\n",
        "import numpy as np\n",
        "import datetime\n",
        "from sklearn.model_selection import TimeSeriesSplit, train_test_split\n",
        "from sklearn.linear_model import LinearRegression\n",
        "from sklearn.ensemble import RandomForestRegressor\n",
        "from sklearn.metrics import mean_squared_error, r2_score, mean_absolute_error\n",
        "import numpy as np"
      ],
      "metadata": {
        "id": "jBAZ2xvPxYiQ"
      },
      "execution_count": null,
      "outputs": []
    },
    {
      "cell_type": "code",
      "source": [
        "data = pd.read_csv(\"https://raw.githubusercontent.com/apriandito/dkem/main/data/dummy_macroeconomic_data.csv\")\n",
        "data"
      ],
      "metadata": {
        "id": "5Cos_0UP06v-"
      },
      "execution_count": null,
      "outputs": []
    },
    {
      "cell_type": "code",
      "source": [
        "data.tail()"
      ],
      "metadata": {
        "id": "IwULq0Cc_caX"
      },
      "execution_count": null,
      "outputs": []
    },
    {
      "cell_type": "code",
      "source": [
        "# Add lag features\n",
        "def create_lag_features(df, lag=1):\n",
        "    df_copy = df.copy()\n",
        "    for col in df.columns:\n",
        "        if col != 'Date':\n",
        "            df_copy[col + f'_lag{lag}'] = df_copy[col].shift(lag)\n",
        "    return df_copy\n",
        "\n",
        "# Create lag features\n",
        "data_lagged = create_lag_features(data, lag=1)\n",
        "data_lagged"
      ],
      "metadata": {
        "id": "qeIYb-RCz3RP"
      },
      "execution_count": null,
      "outputs": []
    },
    {
      "cell_type": "code",
      "source": [
        "# Drop rows with NaN values due to lag\n",
        "data_lagged = data_lagged.dropna()\n",
        "data_lagged"
      ],
      "metadata": {
        "id": "FN2vmb3C6aie"
      },
      "execution_count": null,
      "outputs": []
    },
    {
      "cell_type": "code",
      "source": [
        "# Recreate the feature set using only the lagged variables\n",
        "X_lagged = data_lagged[['GDP_Growth_lag1', 'Unemployment_Rate_lag1',\n",
        "                        'Exchange_Rate_lag1', 'Interest_Rate_lag1',\n",
        "                        'Money_Supply_lag1', 'Consumer_Confidence_Index_lag1']]\n",
        "y_lagged = data_lagged['Inflation_Rate']\n",
        "\n",
        "# Re-initialize the results dictionary\n",
        "results_corrected = {\n",
        "    'Model': [],\n",
        "    'RMSE': [],\n",
        "    'R2': [],\n",
        "    'MAE': [],\n",
        "}\n",
        "\n",
        "# Iterate over each model\n",
        "models = {\n",
        "    'Linear Regression': LinearRegression(),\n",
        "    'Random Forest': RandomForestRegressor(random_state=42)\n",
        "}\n",
        "\n",
        "# TimeSeriesSplit for cross-validation\n",
        "tscv = TimeSeriesSplit(n_splits=5)\n",
        "\n",
        "# Iterate over each model with corrected features\n",
        "for model_name, model in models.items():\n",
        "    # Time series split\n",
        "    for train_index, test_index in tscv.split(X_lagged):\n",
        "        X_train, X_test = X_lagged.iloc[train_index], X_lagged.iloc[test_index]\n",
        "        y_train, y_test = y_lagged.iloc[train_index], y_lagged.iloc[test_index]\n",
        "\n",
        "        # Train the model\n",
        "        model.fit(X_train, y_train)\n",
        "\n",
        "        # Predict on the test set\n",
        "        y_pred = model.predict(X_test)\n",
        "\n",
        "        # Evaluate the model\n",
        "        rmse = np.sqrt(mean_squared_error(y_test, y_pred))\n",
        "        r2 = r2_score(y_test, y_pred)\n",
        "        mae = mean_absolute_error(y_test, y_pred)\n",
        "\n",
        "        # Store results\n",
        "        results_corrected['Model'].append(model_name)\n",
        "        results_corrected['RMSE'].append(rmse)\n",
        "        results_corrected['R2'].append(r2)\n",
        "        results_corrected['MAE'].append(mae)\n",
        "\n",
        "# Convert results to DataFrame\n",
        "results_corrected_df = pd.DataFrame(results_corrected)\n",
        "results_corrected_df"
      ],
      "metadata": {
        "id": "Pt0yKn61z8Aj"
      },
      "execution_count": null,
      "outputs": []
    },
    {
      "cell_type": "code",
      "source": [
        "# Calculate the average of the evaluation metrics\n",
        "average_results = results_corrected_df.groupby('Model').mean().reset_index()\n",
        "\n",
        "# Display the average results\n",
        "average_results"
      ],
      "metadata": {
        "id": "QpWcHOMB-k9T"
      },
      "execution_count": null,
      "outputs": []
    },
    {
      "cell_type": "code",
      "source": [
        "# Train the final models on the entire dataset with only lagged features\n",
        "final_models_corrected = {}\n",
        "for model_name, model in models.items():\n",
        "    model.fit(X_lagged, y_lagged)\n",
        "    final_models_corrected[model_name] = model"
      ],
      "metadata": {
        "id": "lNmDNojqz_qY"
      },
      "execution_count": null,
      "outputs": []
    },
    {
      "cell_type": "code",
      "source": [
        "july_2024_data = data.iloc[-1][['GDP_Growth', 'Unemployment_Rate',\n",
        "                                'Exchange_Rate', 'Interest_Rate',\n",
        "                                'Money_Supply', 'Consumer_Confidence_Index']]\n",
        "\n",
        "# Convert the July 2024 data to the format expected by the model (single row DataFrame)\n",
        "july_2024_data_lagged = pd.DataFrame([july_2024_data.values], columns=X_lagged.columns)\n",
        "july_2024_data_lagged"
      ],
      "metadata": {
        "id": "Sqeq40k9_86w"
      },
      "execution_count": null,
      "outputs": []
    },
    {
      "cell_type": "code",
      "source": [
        "# Use the trained models to predict the inflation rate for August 2024\n",
        "august_predictions_corrected = {model_name: model.predict(july_2024_data_lagged)[0] for model_name, model in final_models_corrected.items()}\n",
        "august_predictions_corrected"
      ],
      "metadata": {
        "id": "2fw310Mxzl8a"
      },
      "execution_count": null,
      "outputs": []
    }
  ]
}